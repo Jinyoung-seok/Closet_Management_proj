{
 "cells": [
  {
   "cell_type": "code",
   "execution_count": 4,
   "id": "7cb87d40-9549-4331-bfe8-1d0a3093e26a",
   "metadata": {},
   "outputs": [],
   "source": [
    "import urllib.request\n",
    "import requests\n",
    "from bs4 import BeautifulSoup"
   ]
  },
  {
   "cell_type": "code",
   "execution_count": 5,
   "id": "f192e56c-2d07-43c8-ba3b-0c1604e287d6",
   "metadata": {},
   "outputs": [
    {
     "name": "stdout",
     "output_type": "stream",
     "text": [
      "WebDriver 객체 :  <class 'selenium.webdriver.chrome.webdriver.WebDriver'>\n"
     ]
    }
   ],
   "source": [
    "# from selenium import webdriver\n",
    "# from selenium.webdriver.common.keys import Keys \n",
    "\n",
    "# driver = webdriver.Chrome('C:/Temp/chromedriver')\n",
    "# print(\"WebDriver 객체 : \", type(driver))"
   ]
  },
  {
   "cell_type": "markdown",
   "id": "62f9741d-ecce-4474-b2f5-67fa7c2c81b5",
   "metadata": {
    "tags": []
   },
   "source": [
    "# 반소매"
   ]
  },
  {
   "cell_type": "code",
   "execution_count": 44,
   "id": "23eb1db9-eb4c-4b1f-b1ff-d0836ef3a54e",
   "metadata": {},
   "outputs": [],
   "source": [
    "req = requests.get(\"https://www.musinsa.com/ranking/best?period=now&age=ALL&mainCategory=001&subCategory=001001&leafCategory=&price=&golf=false&kids=false&newProduct=false&exclusive=false&discount=false&soldOut=false&page=1&viewType=small&priceMin=&priceMax=\")\n",
    "\n",
    "html = req.content\n",
    "html = html.decode('utf-8')\n",
    "\n",
    "bs = BeautifulSoup(html, 'html.parser')\n",
    "img = bs.select('#goodsRankList > li > div.li_inner > div.list_img > a > img')\n",
    "\n",
    "for content in img:\n",
    "    imgUrl = content[\"data-original\"]\n",
    "    with urllib.request.urlopen(imgUrl) as f:\n",
    "        with open('./images/top_short/img' + str(n)+'.jpg','wb') as h: # w - write b - binary\n",
    "            img = f.read()\n",
    "            h.write(img)\n",
    "    n += 1"
   ]
  },
  {
   "cell_type": "markdown",
   "id": "e810334b-0294-477e-8c2f-5b3f400a1c6b",
   "metadata": {},
   "source": [
    "# 긴소매"
   ]
  },
  {
   "cell_type": "code",
   "execution_count": 46,
   "id": "5473472e-07b9-465f-beae-4e859b25d657",
   "metadata": {},
   "outputs": [
    {
     "name": "stdout",
     "output_type": "stream",
     "text": [
      "https://image.msscdn.net/images/goods_img/20210928/2149254/2149254_1_125.jpg\n",
      "https://image.msscdn.net/images/goods_img/20220105/2292844/2292844_1_125.jpg\n",
      "https://image.msscdn.net/images/goods_img/20220308/2405324/2405324_6_125.jpg\n",
      "https://image.msscdn.net/images/goods_img/20220426/2514850/2514850_1_125.jpg\n",
      "https://image.msscdn.net/images/goods_img/20220519/2570825/2570825_1_125.jpg\n",
      "https://image.msscdn.net/images/goods_img/20220308/2404869/2404869_1_125.jpg\n",
      "https://image.msscdn.net/images/goods_img/20220323/2439266/2439266_1_125.jpg\n",
      "https://image.msscdn.net/images/goods_img/20200917/1608272/1608272_1_125.jpg\n",
      "https://image.msscdn.net/images/goods_img/20211217/2272591/2272591_1_125.jpg\n",
      "https://image.msscdn.net/images/goods_img/20210206/1782626/1782626_1_125.jpg\n",
      "https://image.msscdn.net/images/goods_img/20220224/2383133/2383133_1_125.jpg\n",
      "https://image.msscdn.net/images/goods_img/20220218/2370753/2370753_1_125.jpg\n",
      "https://image.msscdn.net/images/goods_img/20170818/604387/604387_2_125.jpg\n",
      "https://image.msscdn.net/images/goods_img/20180906/850153/850153_1_125.jpg\n",
      "https://image.msscdn.net/images/goods_img/20210208/1785295/1785295_1_125.jpg\n",
      "https://image.msscdn.net/images/goods_img/20200225/1322019/1322019_8_125.jpg\n",
      "https://image.msscdn.net/images/goods_img/20220228/2387800/2387800_1_125.jpg\n",
      "https://image.msscdn.net/images/goods_img/20190827/1130844/1130844_1_125.jpg\n",
      "https://image.msscdn.net/images/goods_img/20220214/2357929/2357929_1_125.jpg\n",
      "https://image.msscdn.net/images/goods_img/20190905/1144989/1144989_3_125.jpg\n",
      "https://image.msscdn.net/images/goods_img/20200831/1571143/1571143_6_125.jpg\n",
      "https://image.msscdn.net/images/goods_img/20210813/2064584/2064584_1_125.jpg\n",
      "https://image.msscdn.net/images/goods_img/20220304/2399175/2399175_1_125.jpg\n",
      "https://image.msscdn.net/images/goods_img/20220121/2321312/2321312_2_125.jpg\n",
      "https://image.msscdn.net/images/goods_img/20180803/823465/823465_1_125.jpg\n",
      "https://image.msscdn.net/images/goods_img/20210406/1882569/1882569_1_125.jpg\n",
      "https://image.msscdn.net/images/goods_img/20220124/2322309/2322309_4_125.jpg\n",
      "https://image.msscdn.net/images/goods_img/20200402/1383816/1383816_1_125.jpg\n",
      "https://image.msscdn.net/images/goods_img/20220519/2570367/2570367_1_125.jpg\n",
      "https://image.msscdn.net/images/goods_img/20200928/1629101/1629101_1_125.jpg\n",
      "https://image.msscdn.net/images/goods_img/20220303/2396397/2396397_2_125.jpg\n",
      "https://image.msscdn.net/images/goods_img/20200831/1571151/1571151_5_125.jpg\n",
      "https://image.msscdn.net/images/goods_img/20200812/1546216/1546216_2_125.jpg\n",
      "https://image.msscdn.net/images/goods_img/20210730/2045115/2045115_2_125.jpg\n",
      "https://image.msscdn.net/images/goods_img/20220210/2351296/2351296_1_125.jpg\n",
      "https://image.msscdn.net/images/goods_img/20210813/2063687/2063687_2_125.jpg\n",
      "https://image.msscdn.net/images/goods_img/20220218/2371066/2371066_2_125.jpg\n",
      "https://image.msscdn.net/images/goods_img/20210819/2071169/2071169_1_125.jpg\n",
      "https://image.msscdn.net/images/goods_img/20220304/2396711/2396711_2_125.jpg\n",
      "https://image.msscdn.net/images/goods_img/20220106/2295764/2295764_1_125.jpg\n",
      "https://image.msscdn.net/images/goods_img/20220415/2492545/2492545_1_125.jpg\n",
      "https://image.msscdn.net/images/goods_img/20210812/2060683/2060683_1_125.jpg\n",
      "https://image.msscdn.net/images/goods_img/20200206/1295235/1295235_1_125.jpg\n",
      "https://image.msscdn.net/images/goods_img/20220113/2305617/2305617_1_125.jpg\n",
      "https://image.msscdn.net/images/goods_img/20160902/404474/404474_14_125.jpg\n",
      "https://image.msscdn.net/images/goods_img/20210908/2116877/2116877_1_125.jpg\n",
      "https://image.msscdn.net/images/goods_img/20220304/2397068/2397068_2_125.jpg\n",
      "https://image.msscdn.net/images/goods_img/20210811/2058169/2058169_3_125.jpg\n",
      "https://image.msscdn.net/images/goods_img/20220211/2355390/2355390_1_125.jpg\n",
      "https://image.msscdn.net/images/goods_img/20210127/1766207/1766207_1_125.jpg\n",
      "https://image.msscdn.net/images/goods_img/20210811/2058136/2058136_2_125.jpg\n",
      "https://image.msscdn.net/images/goods_img/20220126/2328898/2328898_1_125.jpg\n",
      "https://image.msscdn.net/images/goods_img/20200402/1383817/1383817_1_125.jpg\n",
      "https://image.msscdn.net/images/goods_img/20190826/1129745/1129745_3_125.jpg\n",
      "https://image.msscdn.net/images/goods_img/20200402/1383412/1383412_4_125.jpg\n",
      "https://image.msscdn.net/images/goods_img/20220217/2368171/2368171_2_125.jpg\n",
      "https://image.msscdn.net/images/goods_img/20191016/1190264/1190264_6_125.jpg\n",
      "https://image.msscdn.net/images/goods_img/20220106/2295752/2295752_1_125.jpg\n",
      "https://image.msscdn.net/images/goods_img/20200831/1572737/1572737_3_125.jpg\n",
      "https://image.msscdn.net/images/goods_img/20200524/1459951/1459951_1_125.jpg\n",
      "https://image.msscdn.net/images/goods_img/20190910/1150596/1150596_9_125.jpg\n",
      "https://image.msscdn.net/images/goods_img/20180910/853185/853185_1_125.jpg\n",
      "https://image.msscdn.net/images/goods_img/20220516/2562435/2562435_1_125.jpg\n",
      "https://image.msscdn.net/images/goods_img/20200312/1347060/1347060_1_125.jpg\n",
      "https://image.msscdn.net/images/goods_img/20210201/1771467/1771467_1_125.jpg\n",
      "https://image.msscdn.net/images/goods_img/20210818/2067891/2067891_1_125.jpg\n",
      "https://image.msscdn.net/images/goods_img/20220428/2527354/2527354_1_125.jpg\n",
      "https://image.msscdn.net/images/goods_img/20220418/2496263/2496263_1_125.jpg\n",
      "https://image.msscdn.net/images/goods_img/20220406/2469201/2469201_1_125.jpg\n",
      "https://image.msscdn.net/images/goods_img/20220406/2469220/2469220_1_125.jpg\n",
      "https://image.msscdn.net/images/goods_img/20200402/1383831/1383831_1_125.jpg\n",
      "https://image.msscdn.net/images/goods_img/20200402/1383415/1383415_4_125.jpg\n",
      "https://image.msscdn.net/images/goods_img/20220113/2305615/2305615_1_125.jpg\n",
      "https://image.msscdn.net/images/goods_img/20220407/2471644/2471644_1_125.jpg\n",
      "https://image.msscdn.net/images/goods_img/20220517/2564771/2564771_1_125.jpg\n",
      "https://image.msscdn.net/images/goods_img/20200318/1357625/1357625_1_125.jpg\n",
      "https://image.msscdn.net/images/goods_img/20220407/2471641/2471641_1_125.jpg\n",
      "https://image.msscdn.net/images/goods_img/20210331/1872571/1872571_1_125.jpg\n",
      "https://image.msscdn.net/images/goods_img/20220519/2569166/2569166_1_125.jpg\n",
      "https://image.msscdn.net/images/goods_img/20210915/2134303/2134303_1_125.jpg\n",
      "https://image.msscdn.net/images/goods_img/20210223/1809546/1809546_1_125.jpg\n",
      "https://image.msscdn.net/images/goods_img/20211013/2176644/2176644_1_125.jpg\n",
      "https://image.msscdn.net/images/goods_img/20210305/1830281/1830281_3_125.jpg\n",
      "https://image.msscdn.net/images/goods_img/20220203/2338864/2338864_1_125.jpg\n",
      "https://image.msscdn.net/images/goods_img/20200928/1629100/1629100_1_125.jpg\n",
      "https://image.msscdn.net/images/goods_img/20220418/2495864/2495864_2_125.jpg\n",
      "https://image.msscdn.net/images/goods_img/20220303/2396399/2396399_2_125.jpg\n",
      "https://image.msscdn.net/images/goods_img/20220302/2392499/2392499_1_125.jpg\n",
      "https://image.msscdn.net/images/goods_img/20190327/996239/996239_3_125.jpg\n",
      "https://image.msscdn.net/images/goods_img/20220414/2487672/2487672_1_125.jpg\n"
     ]
    }
   ],
   "source": [
    "req = requests.get(\"https://www.musinsa.com/ranking/best?period=now&age=ALL&mainCategory=001&subCategory=001010&leafCategory=&price=&golf=false&kids=false&newProduct=false&exclusive=false&discount=false&soldOut=false&page=1&viewType=small&priceMin=&priceMax=\")\n",
    "\n",
    "html = req.content\n",
    "html = html.decode('utf-8')\n",
    "\n",
    "bs = BeautifulSoup(html, 'html.parser')\n",
    "img = bs.select('#goodsRankList > li > div.li_inner > div.list_img > a > img')\n",
    "\n",
    "for content in img:\n",
    "    imgUrl = content[\"data-original\"]\n",
    "    with urllib.request.urlopen(imgUrl) as f:\n",
    "        with open('./images/top_long/img' + str(n)+'.jpg','wb') as h: # w - write b - binary\n",
    "            img = f.read()\n",
    "            h.write(img)\n",
    "    n += 1"
   ]
  },
  {
   "cell_type": "code",
   "execution_count": null,
   "id": "4566688d-00cf-483b-b47b-9eaf5e8b6108",
   "metadata": {},
   "outputs": [],
   "source": []
  }
 ],
 "metadata": {
  "kernelspec": {
   "display_name": "pydatavenv",
   "language": "python",
   "name": "pydatavenv"
  },
  "language_info": {
   "codemirror_mode": {
    "name": "ipython",
    "version": 3
   },
   "file_extension": ".py",
   "mimetype": "text/x-python",
   "name": "python",
   "nbconvert_exporter": "python",
   "pygments_lexer": "ipython3",
   "version": "3.9.12"
  }
 },
 "nbformat": 4,
 "nbformat_minor": 5
}
