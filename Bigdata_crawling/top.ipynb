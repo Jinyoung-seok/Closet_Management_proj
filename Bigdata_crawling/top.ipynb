{
 "cells": [
  {
   "cell_type": "code",
   "execution_count": 4,
   "id": "7cb87d40-9549-4331-bfe8-1d0a3093e26a",
   "metadata": {},
   "outputs": [],
   "source": [
    "import urllib.request\n",
    "\n",
    "from urllib.parse import quote_plus\n",
    "from bs4 import BeautifulSoup\n",
    "from selenium import webdriver\n",
    "import time"
   ]
  },
  {
   "cell_type": "code",
   "execution_count": 5,
   "id": "f192e56c-2d07-43c8-ba3b-0c1604e287d6",
   "metadata": {},
   "outputs": [
    {
     "name": "stdout",
     "output_type": "stream",
     "text": [
      "WebDriver 객체 :  <class 'selenium.webdriver.chrome.webdriver.WebDriver'>\n"
     ]
    }
   ],
   "source": [
    "from selenium import webdriver\n",
    "from selenium.webdriver.common.keys import Keys \n",
    "\n",
    "driver = webdriver.Chrome('C:/Temp/chromedriver')\n",
    "print(\"WebDriver 객체 : \", type(driver))"
   ]
  },
  {
   "cell_type": "markdown",
   "id": "62f9741d-ecce-4474-b2f5-67fa7c2c81b5",
   "metadata": {
    "tags": []
   },
   "source": [
    "# 반소매"
   ]
  },
  {
   "cell_type": "code",
   "execution_count": 22,
   "id": "09ad12b2-c85f-4860-b3f1-a1e0eb0c92c6",
   "metadata": {},
   "outputs": [
    {
     "name": "stdout",
     "output_type": "stream",
     "text": [
      "https://image.msscdn.net/images/goods_img/20210316/1848166/1848166_11_125.jpg\n"
     ]
    }
   ],
   "source": [
    "url = \"https://www.musinsa.com/ranking/best?period=now&age=ALL&mainCategory=001&subCategory=001001&leafCategory=&price=&golf=false&kids=false&newProduct=false&exclusive=false&discount=false&soldOut=false&page=1&viewType=small&priceMin=&priceMax=\"    \n",
    "driver.get(url)\n",
    "\n",
    "top_list = driver.find_element_by_css_selector(\"#goodsRankList > li > div.li_inner > div.list_img > a > img\")\n",
    "print(top_list.get_attribute('src'))"
   ]
  },
  {
   "cell_type": "code",
   "execution_count": 44,
   "id": "23eb1db9-eb4c-4b1f-b1ff-d0836ef3a54e",
   "metadata": {},
   "outputs": [],
   "source": [
    "import requests\n",
    "from bs4 import BeautifulSoup\n",
    "\n",
    "req = requests.get(\"https://www.musinsa.com/ranking/best?period=now&age=ALL&mainCategory=001&subCategory=001001&leafCategory=&price=&golf=false&kids=false&newProduct=false&exclusive=false&discount=false&soldOut=false&page=1&viewType=small&priceMin=&priceMax=\")\n",
    "\n",
    "html = req.content\n",
    "html = html.decode('utf-8')\n",
    "\n",
    "bs = BeautifulSoup(html, 'html.parser')\n",
    "img = bs.select('#goodsRankList > li > div.li_inner > div.list_img > a > img')\n",
    "\n",
    "for content in img:\n",
    "    imgUrl = content[\"data-original\"]\n",
    "    with urlopen(imgUrl) as f:\n",
    "        with open('./images/top_short/img' + str(n)+'.jpg','wb') as h: # w - write b - binary\n",
    "            img = f.read()\n",
    "            h.write(img)\n",
    "    n += 1\n",
    "    "
   ]
  },
  {
   "cell_type": "markdown",
   "id": "e810334b-0294-477e-8c2f-5b3f400a1c6b",
   "metadata": {},
   "source": [
    "# 긴소매"
   ]
  },
  {
   "cell_type": "code",
   "execution_count": 45,
   "id": "dc61a703-0f4b-4712-9cf9-48151c2be352",
   "metadata": {},
   "outputs": [
    {
     "name": "stdout",
     "output_type": "stream",
     "text": [
      "https://image.msscdn.net/0.gif\n"
     ]
    }
   ],
   "source": [
    "url = \"https://www.musinsa.com/ranking/best?period=now&age=ALL&mainCategory=001&subCategory=001010&leafCategory=&price=&golf=false&kids=false&newProduct=false&exclusive=false&discount=false&soldOut=false&page=1&viewType=small&priceMin=&priceMax=\"    \n",
    "driver.get(url)\n",
    "\n",
    "top_long_list = driver.find_element_by_css_selector(\"#goodsRankList > li > div.li_inner > div.list_img > a > img\")\n",
    "print(top_long_list.get_attribute('src'))"
   ]
  },
  {
   "cell_type": "code",
   "execution_count": 46,
   "id": "5473472e-07b9-465f-beae-4e859b25d657",
   "metadata": {},
   "outputs": [],
   "source": [
    "import requests\n",
    "from bs4 import BeautifulSoup\n",
    "\n",
    "req = requests.get(\"https://www.musinsa.com/ranking/best?period=now&age=ALL&mainCategory=001&subCategory=001010&leafCategory=&price=&golf=false&kids=false&newProduct=false&exclusive=false&discount=false&soldOut=false&page=1&viewType=small&priceMin=&priceMax=\")\n",
    "\n",
    "html = req.content\n",
    "html = html.decode('utf-8')\n",
    "\n",
    "bs = BeautifulSoup(html, 'html.parser')\n",
    "img = bs.select('#goodsRankList > li > div.li_inner > div.list_img > a > img')\n",
    "\n",
    "for content in img:\n",
    "    imgUrl = content[\"data-original\"]\n",
    "    with urlopen(imgUrl) as f:\n",
    "        with open('./images/top_long/img' + str(n)+'.jpg','wb') as h: # w - write b - binary\n",
    "            img = f.read()\n",
    "            h.write(img)\n",
    "    n += 1"
   ]
  },
  {
   "cell_type": "code",
   "execution_count": null,
   "id": "4566688d-00cf-483b-b47b-9eaf5e8b6108",
   "metadata": {},
   "outputs": [],
   "source": []
  }
 ],
 "metadata": {
  "kernelspec": {
   "display_name": "pydatavenv",
   "language": "python",
   "name": "pydatavenv"
  },
  "language_info": {
   "codemirror_mode": {
    "name": "ipython",
    "version": 3
   },
   "file_extension": ".py",
   "mimetype": "text/x-python",
   "name": "python",
   "nbconvert_exporter": "python",
   "pygments_lexer": "ipython3",
   "version": "3.9.12"
  }
 },
 "nbformat": 4,
 "nbformat_minor": 5
}
