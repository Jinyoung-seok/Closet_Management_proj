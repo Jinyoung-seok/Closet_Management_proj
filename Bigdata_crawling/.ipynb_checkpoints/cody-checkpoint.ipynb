{
 "cells": [
  {
   "cell_type": "code",
   "execution_count": 68,
   "id": "97f941f8-11dd-4802-bfe4-acd36f8fbb29",
   "metadata": {},
   "outputs": [],
   "source": [
    "import urllib.request\n",
    "import requests\n",
    "from bs4 import BeautifulSoup"
   ]
  },
  {
   "cell_type": "code",
   "execution_count": 72,
   "id": "d520077f-f1f4-4d2c-bf8e-b376dde93b76",
   "metadata": {},
   "outputs": [],
   "source": [
    "req = requests.get(\"https://www.musinsa.com/mz/brandsnap?ordw=hit&p=1\")\n",
    "\n",
    "html = req.content\n",
    "html = html.decode('utf-8')\n",
    "\n",
    "bs = BeautifulSoup(html, 'html.parser')\n",
    "\n",
    "img = bs.select('ul > li > div > a > img')\n",
    "n = 1\n",
    "\n",
    "for content in img:\n",
    "    imgUrl = content[\"src\"]\n",
    "    with urllib.request.urlopen(imgUrl) as f:\n",
    "        with open('./images/cody/cody' + str(n)+'.jpg','wb') as h: # w - write b - binary\n",
    "            img = f.read()\n",
    "            h.write(img)\n",
    "    n+=1"
   ]
  },
  {
   "cell_type": "code",
   "execution_count": null,
   "id": "4029c13a-5a62-42b8-8aff-6f02c2f2a347",
   "metadata": {},
   "outputs": [],
   "source": []
  }
 ],
 "metadata": {
  "kernelspec": {
   "display_name": "pydatavenv",
   "language": "python",
   "name": "pydatavenv"
  },
  "language_info": {
   "codemirror_mode": {
    "name": "ipython",
    "version": 3
   },
   "file_extension": ".py",
   "mimetype": "text/x-python",
   "name": "python",
   "nbconvert_exporter": "python",
   "pygments_lexer": "ipython3",
   "version": "3.9.12"
  }
 },
 "nbformat": 4,
 "nbformat_minor": 5
}
